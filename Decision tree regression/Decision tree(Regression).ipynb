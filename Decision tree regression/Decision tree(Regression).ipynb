{
 "cells": [
  {
   "cell_type": "code",
   "execution_count": null,
   "metadata": {},
   "outputs": [],
   "source": [
    "## you are trying to hire an employee with 20 years of experience, he claims he had $160000/yr salary in last job.\n",
    "## the HR gets little suspicious and call his last workplace to confirm, they just provide a dataset of their salary standards.\n",
    "## you need to predict if the salary stated by guy is true."
   ]
  },
  {
   "cell_type": "code",
   "execution_count": null,
   "metadata": {},
   "outputs": [],
   "source": [
    "# Non-Linear and non-continuous regression model example"
   ]
  },
  {
   "cell_type": "code",
   "execution_count": null,
   "metadata": {},
   "outputs": [],
   "source": [
    "import pandas as pd\n",
    "import numpy as np\n",
    "import matplotlib.pyplot as plt\n",
    "\n",
    "import os\n",
    "os.getcwd()"
   ]
  },
  {
   "cell_type": "code",
   "execution_count": null,
   "metadata": {},
   "outputs": [],
   "source": [
    "dataset = pd.read_csv(\"Position_Salaries.csv\");\n",
    "\n",
    "X=dataset.iloc[:,1:2].values         #taking all rows and all columns except last column, independent variables\n",
    "Y=dataset.iloc[:,2:3].values "
   ]
  },
  {
   "cell_type": "code",
   "execution_count": null,
   "metadata": {},
   "outputs": [],
   "source": [
    "dataset"
   ]
  },
  {
   "cell_type": "code",
   "execution_count": null,
   "metadata": {},
   "outputs": [],
   "source": [
    "Y"
   ]
  },
  {
   "cell_type": "code",
   "execution_count": null,
   "metadata": {},
   "outputs": [],
   "source": [
    "from sklearn.tree import DecisionTreeRegressor\n",
    "regressor = DecisionTreeRegressor(random_state = 0) # so the answer matches with udemy session\n",
    "regressor.fit(X,Y)"
   ]
  },
  {
   "cell_type": "code",
   "execution_count": null,
   "metadata": {},
   "outputs": [],
   "source": [
    "y_pred = regressor.predict([[6.5]])"
   ]
  },
  {
   "cell_type": "code",
   "execution_count": null,
   "metadata": {},
   "outputs": [],
   "source": [
    "y_pred"
   ]
  },
  {
   "cell_type": "code",
   "execution_count": null,
   "metadata": {},
   "outputs": [],
   "source": [
    "### Visualizing SV Regression model (wrong visualisation for this model)\n",
    "plt.scatter(X,Y,color=\"Red\")\n",
    "plt.plot(X,regressor.predict(X),color='Blue')\n",
    "plt.title('True or False')\n",
    "plt.xlabel('Positions')\n",
    "plt.ylabel('Salary')\n",
    "plt.show()"
   ]
  },
  {
   "cell_type": "code",
   "execution_count": null,
   "metadata": {},
   "outputs": [],
   "source": [
    "# this is a trap.\n",
    "# as we know in decision tree, the algo splits dataset into sections and takes average of that section but here the line is a slope\n",
    "# since its a slope, its not a constant value. therefore a trap\n",
    "# problem is the above visualisation is for continuous models and its a non continuous model therefore\n",
    "# for correct visualisation, code is provided below"
   ]
  },
  {
   "cell_type": "code",
   "execution_count": null,
   "metadata": {},
   "outputs": [],
   "source": [
    "### Visualizing Decision tree Regression model (for higher resoultion)\n",
    "X_grid = np.arange(max(X), min(X), 0.01)\n",
    "X_grid = np.reshape(len(X_grid), 1)\n",
    "plt.scatter(X,Y,color=\"Red\")\n",
    "plt.plot(X_grid,regressor.predict(X_grid),color='Blue')\n",
    "plt.title('True or False')\n",
    "plt.xlabel('Positions')\n",
    "plt.ylabel('Salary')\n",
    "plt.show()"
   ]
  },
  {
   "cell_type": "code",
   "execution_count": null,
   "metadata": {},
   "outputs": [],
   "source": []
  }
 ],
 "metadata": {
  "kernelspec": {
   "display_name": "Python 3",
   "language": "python",
   "name": "python3"
  },
  "language_info": {
   "codemirror_mode": {
    "name": "ipython",
    "version": 3
   },
   "file_extension": ".py",
   "mimetype": "text/x-python",
   "name": "python",
   "nbconvert_exporter": "python",
   "pygments_lexer": "ipython3",
   "version": "3.7.1"
  }
 },
 "nbformat": 4,
 "nbformat_minor": 2
}
